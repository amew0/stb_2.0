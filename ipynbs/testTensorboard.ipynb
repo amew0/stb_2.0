{
 "cells": [
  {
   "cell_type": "code",
   "execution_count": null,
   "metadata": {},
   "outputs": [],
   "source": [
    "import tensorflow as tf\n",
    "import datetime\n"
   ]
  },
  {
   "cell_type": "code",
   "execution_count": null,
   "metadata": {},
   "outputs": [],
   "source": [
    "# create some random data\n",
    "x_train = tf.random.normal((1000, 10))\n",
    "y_train = tf.random.normal((1000, 1))\n",
    "x_val = tf.random.normal((200, 10))\n",
    "y_val = tf.random.normal((200, 1))\n",
    "x_test = tf.random.normal((300, 10))\n",
    "y_test = tf.random.normal((300, 1))\n",
    "\n"
   ]
  },
  {
   "cell_type": "code",
   "execution_count": null,
   "metadata": {},
   "outputs": [],
   "source": [
    "# create a simple model\n",
    "model = tf.keras.models.Sequential([\n",
    "    tf.keras.layers.Dense(32, activation='relu', input_shape=(10,)),\n",
    "    tf.keras.layers.Dense(1)\n",
    "])\n",
    "\n",
    "# compile the model\n",
    "model.compile(optimizer='adam', loss='mse', metrics=['accuracy'])\n",
    "\n",
    "# create a log directory for TensorBoard\n",
    "log_dir = \"logs/\" + datetime.datetime.now().strftime(\"%Y%m%d-%H%M%S\")\n",
    "\n",
    "# create a TensorBoard callback to visualize training metrics\n",
    "tensorboard_callback = tf.keras.callbacks.TensorBoard(log_dir=log_dir, histogram_freq=1)\n",
    "\n"
   ]
  },
  {
   "cell_type": "code",
   "execution_count": null,
   "metadata": {},
   "outputs": [],
   "source": [
    "# train the model with validation data and TensorBoard callback\n",
    "history = model.fit(x_train, y_train, epochs=50, validation_data=(x_val, y_val), callbacks=[tensorboard_callback])\n",
    "\n"
   ]
  },
  {
   "cell_type": "code",
   "execution_count": null,
   "metadata": {},
   "outputs": [],
   "source": [
    "# evaluate the model on test data\n",
    "test_loss = model.evaluate(x_test, y_test)\n",
    "\n",
    "# save the model\n",
    "model.save('my_model.h5')\n",
    "\n",
    "# load the model\n",
    "loaded_model = tf.keras.models.load_model('my_model.h5')\n",
    "\n",
    "# predict on test data using the loaded model\n",
    "y_pred = loaded_model.predict(x_test)"
   ]
  },
  {
   "cell_type": "code",
   "execution_count": 2,
   "metadata": {},
   "outputs": [
    {
     "name": "stderr",
     "output_type": "stream",
     "text": [
      "UsageError: Line magic function `%tensorboard` not found.\n"
     ]
    }
   ],
   "source": [
    "%tensorboard --logdir logs/ResNet50-STBv1.0_14"
   ]
  },
  {
   "cell_type": "code",
   "execution_count": null,
   "metadata": {},
   "outputs": [],
   "source": [
    "%pip install tensorboard"
   ]
  },
  {
   "attachments": {},
   "cell_type": "markdown",
   "metadata": {},
   "source": [
    "## Checking GPU"
   ]
  },
  {
   "cell_type": "code",
   "execution_count": 1,
   "metadata": {},
   "outputs": [
    {
     "name": "stderr",
     "output_type": "stream",
     "text": [
      "2023-04-03 02:25:19.738153: I tensorflow/core/util/port.cc:110] oneDNN custom operations are on. You may see slightly different numerical results due to floating-point round-off errors from different computation orders. To turn them off, set the environment variable `TF_ENABLE_ONEDNN_OPTS=0`.\n",
      "2023-04-03 02:25:19.828160: I tensorflow/core/platform/cpu_feature_guard.cc:182] This TensorFlow binary is optimized to use available CPU instructions in performance-critical operations.\n",
      "To enable the following instructions: AVX2 AVX512F AVX512_VNNI FMA, in other operations, rebuild TensorFlow with the appropriate compiler flags.\n",
      "2023-04-03 02:25:20.527015: W tensorflow/compiler/tf2tensorrt/utils/py_utils.cc:38] TF-TRT Warning: Could not find TensorRT\n"
     ]
    }
   ],
   "source": [
    "import tensorflow as tf"
   ]
  },
  {
   "cell_type": "code",
   "execution_count": null,
   "metadata": {},
   "outputs": [],
   "source": [
    "tf.config.experimental.list_physical_devices()"
   ]
  },
  {
   "cell_type": "code",
   "execution_count": null,
   "metadata": {},
   "outputs": [],
   "source": [
    "import time\n",
    "\n",
    "def mul (n):\n",
    "  a = tf.random.normal([n, n])\n",
    "  b = tf.random.normal([n, n])\n",
    "  c = tf.matmul(a, b)\n",
    "  return c\n",
    "\n",
    "# Create a large operation using the CPU\n",
    "with tf.device('/CPU:0'):\n",
    "  start_time_cpu = time.time()\n",
    "  m = mul(10000)\n",
    "  end_time_cpu = time.time()\n",
    "\n",
    "# Create the same operation using the GPU\n",
    "with tf.device('/GPU:0'):\n",
    "  start_time_gpu = time.time()\n",
    "  m = mul(10000)\n",
    "  end_time_gpu = time.time()\n",
    "\n",
    "# Print the time it took to run each operation\n",
    "print(\"Time for CPU: \", end_time_cpu - start_time_cpu)\n",
    "print(\"Time for GPU: \", end_time_gpu - start_time_gpu)\n"
   ]
  },
  {
   "cell_type": "code",
   "execution_count": null,
   "metadata": {},
   "outputs": [],
   "source": []
  },
  {
   "attachments": {},
   "cell_type": "markdown",
   "metadata": {},
   "source": [
    "    /home/ai-05/Desktop/sdp/sdp/bin/estimator_ckpt_converter\n",
    "    /home/ai-05/Desktop/sdp/sdp/bin/import_pb_to_tensorboard\n",
    "    /home/ai-05/Desktop/sdp/sdp/bin/saved_model_cli\n",
    "    /home/ai-05/Desktop/sdp/sdp/bin/tensorboard\n",
    "    /home/ai-05/Desktop/sdp/sdp/bin/tf_upgrade_v2\n",
    "    /home/ai-05/Desktop/sdp/sdp/bin/tflite_convert\n",
    "    /home/ai-05/Desktop/sdp/sdp/bin/toco\n",
    "    /home/ai-05/Desktop/sdp/sdp/bin/toco_from_protos\n",
    "    /home/ai-05/Desktop/sdp/sdp/lib/python3.10/site-packages/tensorflow-2.12.0.dist-info/*\n",
    "    /home/ai-05/Desktop/sdp/sdp/lib/python3.10/site-packages/tensorflow/*"
   ]
  }
 ],
 "metadata": {
  "kernelspec": {
   "display_name": "sdp",
   "language": "python",
   "name": "python3"
  },
  "language_info": {
   "codemirror_mode": {
    "name": "ipython",
    "version": 3
   },
   "file_extension": ".py",
   "mimetype": "text/x-python",
   "name": "python",
   "nbconvert_exporter": "python",
   "pygments_lexer": "ipython3",
   "version": "3.10.9"
  },
  "orig_nbformat": 4
 },
 "nbformat": 4,
 "nbformat_minor": 2
}
