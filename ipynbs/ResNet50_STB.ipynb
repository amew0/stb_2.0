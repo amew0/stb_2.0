{
  "cells": [
    {
      "attachments": {},
      "cell_type": "markdown",
      "metadata": {
        "id": "SCHzhg9NzOtF"
      },
      "source": [
        "# **Importing**"
      ]
    },
    {
      "cell_type": "code",
      "execution_count": 1,
      "metadata": {},
      "outputs": [
        {
          "name": "stderr",
          "output_type": "stream",
          "text": [
            "bash: /home/ai-05/miniconda3/lib/libtinfo.so.6: no version information available (required by bash)\n",
            "2023-05-18 14:38:12.865354: I tensorflow/core/util/port.cc:110] oneDNN custom operations are on. You may see slightly different numerical results due to floating-point round-off errors from different computation orders. To turn them off, set the environment variable `TF_ENABLE_ONEDNN_OPTS=0`.\n",
            "2023-05-18 14:38:12.898584: I tensorflow/core/platform/cpu_feature_guard.cc:182] This TensorFlow binary is optimized to use available CPU instructions in performance-critical operations.\n",
            "To enable the following instructions: AVX2 AVX512F AVX512_VNNI FMA, in other operations, rebuild TensorFlow with the appropriate compiler flags.\n",
            "2023-05-18 14:38:13.386267: W tensorflow/compiler/tf2tensorrt/utils/py_utils.cc:38] TF-TRT Warning: Could not find TensorRT\n",
            "2023-05-18 14:38:13.965738: I tensorflow/compiler/xla/stream_executor/cuda/cuda_gpu_executor.cc:996] successful NUMA node read from SysFS had negative value (-1), but there must be at least one NUMA node, so returning NUMA node zero. See more at https://github.com/torvalds/linux/blob/v6.0/Documentation/ABI/testing/sysfs-bus-pci#L344-L355\n",
            "2023-05-18 14:38:13.983466: I tensorflow/compiler/xla/stream_executor/cuda/cuda_gpu_executor.cc:996] successful NUMA node read from SysFS had negative value (-1), but there must be at least one NUMA node, so returning NUMA node zero. See more at https://github.com/torvalds/linux/blob/v6.0/Documentation/ABI/testing/sysfs-bus-pci#L344-L355\n",
            "2023-05-18 14:38:13.983609: I tensorflow/compiler/xla/stream_executor/cuda/cuda_gpu_executor.cc:996] successful NUMA node read from SysFS had negative value (-1), but there must be at least one NUMA node, so returning NUMA node zero. See more at https://github.com/torvalds/linux/blob/v6.0/Documentation/ABI/testing/sysfs-bus-pci#L344-L355\n"
          ]
        },
        {
          "name": "stdout",
          "output_type": "stream",
          "text": [
            "[PhysicalDevice(name='/physical_device:GPU:0', device_type='GPU')]\n"
          ]
        }
      ],
      "source": [
        "%%bash\n",
        "export PATH=/usr/local/cuda-12.1/bin:$PATH\n",
        "CUDNN_PATH=$(dirname $(python -c \"import nvidia.cudnn;print(nvidia.cudnn.__file__)\"))\n",
        "export LD_LIBRARY_PATH=$LD_LIBRARY_PATH:$CONDA_PREFIX/lib/:$CUDNN_PATH/lib\n",
        "python3 -c \"import tensorflow as tf; print(tf.config.list_physical_devices('GPU'))\""
      ]
    },
    {
      "cell_type": "code",
      "execution_count": 1,
      "metadata": {},
      "outputs": [
        {
          "name": "stdout",
          "output_type": "stream",
          "text": [
            "/home/ai-05/Desktop/sdp\n"
          ]
        }
      ],
      "source": [
        "%cd /home/ai-05/Desktop/sdp"
      ]
    },
    {
      "cell_type": "code",
      "execution_count": 3,
      "metadata": {},
      "outputs": [
        {
          "name": "stdout",
          "output_type": "stream",
          "text": [
            "/bin/bash: /home/ai-05/miniconda3/lib/libtinfo.so.6: no version information available (required by /bin/bash)\n",
            "/home/ai-05/Desktop/sdp/test_1/bin:/usr/local/cuda-12.1/bin:/home/ai-05/Desktop/sdp/test_1/bin:/home/ai-05/miniconda3/bin:/home/ai-05/miniconda3/condabin:/usr/lib/nvidia-cuda-toolkit/bin:/usr/local/sbin:/usr/local/bin:/usr/sbin:/usr/bin:/sbin:/bin:/usr/games:/usr/local/games:/snap/bin\n"
          ]
        }
      ],
      "source": [
        "!echo $PATH"
      ]
    },
    {
      "cell_type": "code",
      "execution_count": 2,
      "metadata": {
        "id": "QGA54rw6ZGJL"
      },
      "outputs": [
        {
          "name": "stderr",
          "output_type": "stream",
          "text": [
            "2023-05-20 03:07:39.874244: I tensorflow/core/util/port.cc:110] oneDNN custom operations are on. You may see slightly different numerical results due to floating-point round-off errors from different computation orders. To turn them off, set the environment variable `TF_ENABLE_ONEDNN_OPTS=0`.\n",
            "2023-05-20 03:07:39.966593: I tensorflow/core/platform/cpu_feature_guard.cc:182] This TensorFlow binary is optimized to use available CPU instructions in performance-critical operations.\n",
            "To enable the following instructions: AVX2 AVX512F AVX512_VNNI FMA, in other operations, rebuild TensorFlow with the appropriate compiler flags.\n",
            "2023-05-20 03:07:40.558317: W tensorflow/compiler/tf2tensorrt/utils/py_utils.cc:38] TF-TRT Warning: Could not find TensorRT\n"
          ]
        }
      ],
      "source": [
        "import json\n",
        "import os\n",
        "import pathlib\n",
        "import random\n",
        "from datetime import datetime\n",
        "import cv2\n",
        "import matplotlib.pyplot as plt\n",
        "import numpy as np\n",
        "import pandas as pd\n",
        "import PIL\n",
        "import tensorflow as tf\n",
        "from PIL import Image\n",
        "from tensorflow import keras\n",
        "from tensorflow.keras import layers\n",
        "from tensorflow.keras.models import Sequential\n",
        "from keras_tuner import Hyperband, Objective, BayesianOptimization\n",
        "from tensorflow.keras.callbacks import ModelCheckpoint"
      ]
    },
    {
      "cell_type": "code",
      "execution_count": 3,
      "metadata": {},
      "outputs": [
        {
          "name": "stdout",
          "output_type": "stream",
          "text": [
            "[PhysicalDevice(name='/physical_device:GPU:0', device_type='GPU')]\n"
          ]
        },
        {
          "name": "stderr",
          "output_type": "stream",
          "text": [
            "2023-05-20 03:08:07.802677: I tensorflow/compiler/xla/stream_executor/cuda/cuda_gpu_executor.cc:996] successful NUMA node read from SysFS had negative value (-1), but there must be at least one NUMA node, so returning NUMA node zero. See more at https://github.com/torvalds/linux/blob/v6.0/Documentation/ABI/testing/sysfs-bus-pci#L344-L355\n",
            "2023-05-20 03:08:07.858272: I tensorflow/compiler/xla/stream_executor/cuda/cuda_gpu_executor.cc:996] successful NUMA node read from SysFS had negative value (-1), but there must be at least one NUMA node, so returning NUMA node zero. See more at https://github.com/torvalds/linux/blob/v6.0/Documentation/ABI/testing/sysfs-bus-pci#L344-L355\n",
            "2023-05-20 03:08:07.858424: I tensorflow/compiler/xla/stream_executor/cuda/cuda_gpu_executor.cc:996] successful NUMA node read from SysFS had negative value (-1), but there must be at least one NUMA node, so returning NUMA node zero. See more at https://github.com/torvalds/linux/blob/v6.0/Documentation/ABI/testing/sysfs-bus-pci#L344-L355\n"
          ]
        }
      ],
      "source": [
        "gpu = tf.config.list_physical_devices('GPU')\n",
        "print(gpu)\n",
        "if gpu:\n",
        "    tf.config.experimental.set_virtual_device_configuration(gpu[0],[tf.config.experimental.VirtualDeviceConfiguration(memory_limit=5000)])"
      ]
    },
    {
      "cell_type": "code",
      "execution_count": 6,
      "metadata": {},
      "outputs": [],
      "source": [
        "NEWMODELNAME = \"ResNet50-STBv1.0_19\"\n",
        "BASEMODELNAME = \"ResNet50-STBv1.0_18\""
      ]
    },
    {
      "attachments": {},
      "cell_type": "markdown",
      "metadata": {},
      "source": [
        "# **Data generator**"
      ]
    },
    {
      "cell_type": "code",
      "execution_count": 4,
      "metadata": {},
      "outputs": [],
      "source": [
        "def ds_generator(path, batch_size=16, to_1_hot=False, shuffle=True, image_height=224, image_width=224, seed=123, num_classes=3):\n",
        "    dir = pathlib.Path(path)\n",
        "\n",
        "\n",
        "    ds = tf.keras.utils.image_dataset_from_directory(\n",
        "        dir,\n",
        "        seed=seed,\n",
        "        image_size=(image_height, image_width),\n",
        "        batch_size=batch_size,\n",
        "        shuffle=shuffle)\n",
        "    \n",
        "    if to_1_hot:\n",
        "        # Create a function to convert labels to one-hot encoding\n",
        "        num_classes = num_classes\n",
        "        def to_one_hot(x, y):\n",
        "            num_classes = 3\n",
        "            y_one_hot = tf.one_hot(y, num_classes)\n",
        "            return x, y_one_hot\n",
        "        ds = ds.map(to_one_hot)\n",
        "    \n",
        "    return ds"
      ]
    },
    {
      "cell_type": "code",
      "execution_count": 5,
      "metadata": {},
      "outputs": [
        {
          "name": "stdout",
          "output_type": "stream",
          "text": [
            "Found 66053 files belonging to 4 classes.\n",
            "Found 231 files belonging to 4 classes.\n"
          ]
        },
        {
          "name": "stderr",
          "output_type": "stream",
          "text": [
            "2023-05-20 03:09:59.465792: I tensorflow/compiler/xla/stream_executor/cuda/cuda_gpu_executor.cc:996] successful NUMA node read from SysFS had negative value (-1), but there must be at least one NUMA node, so returning NUMA node zero. See more at https://github.com/torvalds/linux/blob/v6.0/Documentation/ABI/testing/sysfs-bus-pci#L344-L355\n",
            "2023-05-20 03:09:59.466086: I tensorflow/compiler/xla/stream_executor/cuda/cuda_gpu_executor.cc:996] successful NUMA node read from SysFS had negative value (-1), but there must be at least one NUMA node, so returning NUMA node zero. See more at https://github.com/torvalds/linux/blob/v6.0/Documentation/ABI/testing/sysfs-bus-pci#L344-L355\n",
            "2023-05-20 03:09:59.466214: I tensorflow/compiler/xla/stream_executor/cuda/cuda_gpu_executor.cc:996] successful NUMA node read from SysFS had negative value (-1), but there must be at least one NUMA node, so returning NUMA node zero. See more at https://github.com/torvalds/linux/blob/v6.0/Documentation/ABI/testing/sysfs-bus-pci#L344-L355\n",
            "2023-05-20 03:10:00.063894: I tensorflow/compiler/xla/stream_executor/cuda/cuda_gpu_executor.cc:996] successful NUMA node read from SysFS had negative value (-1), but there must be at least one NUMA node, so returning NUMA node zero. See more at https://github.com/torvalds/linux/blob/v6.0/Documentation/ABI/testing/sysfs-bus-pci#L344-L355\n",
            "2023-05-20 03:10:00.064030: I tensorflow/compiler/xla/stream_executor/cuda/cuda_gpu_executor.cc:996] successful NUMA node read from SysFS had negative value (-1), but there must be at least one NUMA node, so returning NUMA node zero. See more at https://github.com/torvalds/linux/blob/v6.0/Documentation/ABI/testing/sysfs-bus-pci#L344-L355\n",
            "2023-05-20 03:10:00.064108: I tensorflow/compiler/xla/stream_executor/cuda/cuda_gpu_executor.cc:996] successful NUMA node read from SysFS had negative value (-1), but there must be at least one NUMA node, so returning NUMA node zero. See more at https://github.com/torvalds/linux/blob/v6.0/Documentation/ABI/testing/sysfs-bus-pci#L344-L355\n",
            "2023-05-20 03:10:00.064180: I tensorflow/core/common_runtime/gpu/gpu_device.cc:1635] Created device /job:localhost/replica:0/task:0/device:GPU:0 with 5000 MB memory:  -> device: 0, name: NVIDIA GeForce RTX 3080 Laptop GPU, pci bus id: 0000:01:00.0, compute capability: 8.6\n"
          ]
        }
      ],
      "source": [
        "train_ds = ds_generator(\"Training Set\", 16, True, num_classes=4)\n",
        "test_ds = ds_generator(\"dcrpi-b\", 16,True, shuffle = False, num_classes=4)"
      ]
    },
    {
      "attachments": {},
      "cell_type": "markdown",
      "metadata": {},
      "source": [
        "# **Prep**"
      ]
    },
    {
      "cell_type": "code",
      "execution_count": null,
      "metadata": {},
      "outputs": [],
      "source": [
        "block_layer_index = {\n",
        "    0: [1,7,'conv1'],\n",
        "    1: [7,19,'conv2_block1'],\n",
        "    2: [19,29,'conv2_block2'],\n",
        "    3: [29,39,'conv2_block3'],\n",
        "    4: [39,51,'conv3_block1'],\n",
        "    5: [51,61,'conv3_block2'],\n",
        "    6: [61,71,'conv3_block3'],\n",
        "    7: [71,81,'conv3_block4'],\n",
        "    8: [81,93,'conv4_block1'],\n",
        "    9: [93,103,'conv4_block2'],\n",
        "    10: [103,113,'conv4_block3'],\n",
        "    11: [113,123,'conv4_block4'],\n",
        "    12: [123, 133,'conv4_block5'],\n",
        "    13: [133,143,'conv4_block6'],\n",
        "    14: [143,155,'conv5_block1'],\n",
        "    15: [155,165,'conv5_block2'],\n",
        "    16: [165, -1,'conv5_block3']\n",
        " }"
      ]
    },
    {
      "cell_type": "code",
      "execution_count": null,
      "metadata": {},
      "outputs": [],
      "source": [
        "model = tf.keras.models.load_model(f\"Models/{BASEMODELNAME}\")"
      ]
    },
    {
      "attachments": {},
      "cell_type": "markdown",
      "metadata": {},
      "source": [
        "# **Tuner**"
      ]
    },
    {
      "cell_type": "code",
      "execution_count": null,
      "metadata": {},
      "outputs": [],
      "source": [
        "tuner_path = f'Tuner/{BASEMODELNAME}'\n",
        "num_trials = 30\n",
        "tunable_indices = [0,1,2,3,4,5,6,7]"
      ]
    },
    {
      "cell_type": "code",
      "execution_count": null,
      "metadata": {},
      "outputs": [],
      "source": [
        "def retrieve_trials(tuner_path, num_trials, tunable_indices):\n",
        "    \"\"\"\n",
        "        'Args': \n",
        "            tuner_path: str something similiar to 'Tuner/ResNet50-STBv1.0_15'\n",
        "            num_trials: int (count them)\n",
        "            tunable_indices: list(int) to tune them\n",
        "        'Returns':\n",
        "            a dict of dict in a panda DataFrame\n",
        "            cols: the trials 0 1 2 ...\n",
        "            rows: the name of the hps\n",
        "\n",
        "    \"\"\"\n",
        "    hps_trials = {}\n",
        "    for i in range(num_trials):\n",
        "        f = open(f\"{tuner_path}/HB_tuner/trial_00{i:02d}/trial.json\", 'r')\n",
        "        hps_trial = json.load(f)\n",
        "        hps_trials[i] = hps_trial['hyperparameters']['values']\n",
        "        \n",
        "    d = pd.DataFrame(hps_trials)\n",
        "    d = d.fillna(-1)\n",
        "    for i in range(len(d.columns)): d[i] = d[i].astype(int)\n",
        "\n",
        "    name = lambda i: block_layer_index[i][2]\n",
        "    # in tunable_indices and already in hps_trials\n",
        "    names = [name(t) for t in tunable_indices if name(t) in d.index] \n",
        "    d.T[names].T\n",
        "\n",
        "    return d"
      ]
    },
    {
      "cell_type": "code",
      "execution_count": null,
      "metadata": {},
      "outputs": [],
      "source": [
        "def comp(hps, d_i):\n",
        "    # compares two dicts if they are equal \n",
        "    for k in hps:\n",
        "        if k not in d_i.index or  hps[k] != d_i[k]: return False\n",
        "        else: continue\n",
        "    return True"
      ]
    },
    {
      "cell_type": "code",
      "execution_count": null,
      "metadata": {},
      "outputs": [],
      "source": [
        "def build_model(hp):\n",
        "    \n",
        "    resnet_base = model.layers[2]\n",
        "    resnet_base.trainable = False\n",
        "\n",
        "    name = lambda i: block_layer_index[i][2]\n",
        "    names = list(map(name, tunable_indices))\n",
        "\n",
        "    hps = {}\n",
        "    for i,name_ in enumerate(names):\n",
        "        hps[name_] = hp.Choice(name_, [True,False]) == True\n",
        "    \n",
        "    d = retrieve_trials( tuner_path, num_trials, tunable_indices)\n",
        "    exists = True\n",
        "    while exists:\n",
        "        checks = []\n",
        "        for i in range(len(d.columns)):\n",
        "            equal = comp(hps,d[i])\n",
        "            checks.append(equal)\n",
        "            if equal: break\n",
        "        checks = np.array(checks)\n",
        "        exists = np.any(checks) # If there is any True value returns True\n",
        "        \n",
        "        if exists:\n",
        "            print(f\"HP combination already exists with the following values:{hps}\")\n",
        "        else:print(f\"HP combination is new.\\n{hps}\")\n",
        "             \n",
        "        # Flip the value of the boolean at the chosen key\n",
        "        flip_key = random.choice(tunable_indices)\n",
        "        flip_key = name(flip_key)\n",
        "        hps[flip_key] = not hps[flip_key]\n",
        "\n",
        "    for bli_k, bli_v in block_layer_index.items():\n",
        "        if bli_k in tunable_indices:\n",
        "            for layer in resnet_base.layers[bli_v[0]:bli_v[1]]:\n",
        "                layer.trainable = hps[name(bli_k)]\n",
        "        \n",
        "    model.compile(optimizer=tf.keras.optimizers.SGD(lr=1e-3, momentum=0.9),loss=tf.keras.losses.CategoricalCrossentropy(),metrics=[tf.metrics.Recall()])\n",
        "    return model\n",
        "    "
      ]
    },
    {
      "cell_type": "code",
      "execution_count": null,
      "metadata": {},
      "outputs": [],
      "source": [
        "from keras_tuner.engine.hyperparameters import HyperParameters\n",
        "\n",
        "# Define the hyperparameters\n",
        "hp = HyperParameters()"
      ]
    },
    {
      "cell_type": "code",
      "execution_count": null,
      "metadata": {},
      "outputs": [],
      "source": [
        "tuner = Hyperband(\n",
        "    build_model,\n",
        "    objective=Objective('val_recall', direction='max'),\n",
        "    max_epochs=20,\n",
        "    factor=3,\n",
        "    overwrite=True,\n",
        "    directory=f'Tuner/{NEWMODELNAME}',\n",
        "    project_name='HB_tuner')"
      ]
    },
    {
      "cell_type": "code",
      "execution_count": null,
      "metadata": {},
      "outputs": [],
      "source": [
        "%pip install keras-tuner[bayesian]"
      ]
    },
    {
      "cell_type": "code",
      "execution_count": null,
      "metadata": {},
      "outputs": [],
      "source": [
        "tuner = BayesianOptimization(\n",
        "    hypermodel=build_model,\n",
        "    objective=Objective('val_recall', direction='max'),\n",
        "    max_trials=50,\n",
        "    seed=123\n",
        ")\n"
      ]
    },
    {
      "cell_type": "code",
      "execution_count": null,
      "metadata": {},
      "outputs": [],
      "source": [
        "tuner.search_space_summary(extended=False)"
      ]
    },
    {
      "cell_type": "code",
      "execution_count": null,
      "metadata": {},
      "outputs": [],
      "source": [
        "log_dir = f\"logs/{NEWMODELNAME}\"\n",
        "\n",
        "# create a TensorBoard callback to visualize training metrics\n",
        "tensorboard_callback = tf.keras.callbacks.TensorBoard(log_dir=log_dir, histogram_freq=1)\n",
        "\n",
        "# # Create the TrialCheckpoint callback\n",
        "# class MyModelCheckpoint (ModelCheckpoint):\n",
        "#     def __init__(self, *args, **kwargs):\n",
        "#         self.now = 0\n",
        "#         super(MyModelCheckpoint, self).__init__(\n",
        "#             filepath = self.get_chpt_dir(),\n",
        "#             save_weights_only=False,\n",
        "#             save_best_only=True,\n",
        "#             save_freq='epoch',\n",
        "#             verbose=1\n",
        "#         )\n",
        "        \n",
        "    \n",
        "#     def on_epoch_end(self, epoch, logs=None):\n",
        "#         super(MyModelCheckpoint, self).on_epoch_end(epoch, logs)\n",
        "#         self.now = datetime.now().strftime(\"%Y%m%d%H%M%S\")\n",
        " \n",
        "    \n",
        "#     def get_chpt_dir(self):\n",
        "#         return f\"Checkpoint/{NEWMODELNAME}/{self.now}_\"+\"{epoch:02d}.h5\""
      ]
    },
    {
      "cell_type": "code",
      "execution_count": null,
      "metadata": {},
      "outputs": [],
      "source": [
        "tuner.search(train_ds, epochs=20, validation_data=test_ds,callbacks=[tensorboard_callback]) #MyModelCheckpoint(), "
      ]
    },
    {
      "cell_type": "markdown",
      "metadata": {},
      "source": [
        "# **Results (Tuner)**"
      ]
    },
    {
      "cell_type": "code",
      "execution_count": null,
      "metadata": {},
      "outputs": [],
      "source": [
        "tuner.results_summary(num_trials=30)"
      ]
    },
    {
      "cell_type": "code",
      "execution_count": null,
      "metadata": {},
      "outputs": [],
      "source": [
        "all_hps = tuner.get_best_hyperparameters(num_trials=30)"
      ]
    },
    {
      "cell_type": "code",
      "execution_count": null,
      "metadata": {},
      "outputs": [],
      "source": [
        "test_ds = ds_generator(\"dcrpi-167\", 16 , True,False)"
      ]
    },
    {
      "cell_type": "code",
      "execution_count": null,
      "metadata": {},
      "outputs": [],
      "source": [
        "for i,hps in enumerate(all_hps):\n",
        "    print(f\"best trial - {i}\")\n",
        "    tuned_model = build_model(hps)\n",
        "    tuned_model.evaluate(test_ds)"
      ]
    },
    {
      "cell_type": "code",
      "execution_count": null,
      "metadata": {},
      "outputs": [],
      "source": [
        "model=build_model(all_hps[0]).save(f\"Models/{NEWMODELNAME}\")"
      ]
    },
    {
      "attachments": {},
      "cell_type": "markdown",
      "metadata": {},
      "source": [
        "# **Prediction**"
      ]
    },
    {
      "cell_type": "code",
      "execution_count": null,
      "metadata": {},
      "outputs": [],
      "source": [
        "model = tf.keras.models.load_model(f\"Models/{NEWMODELNAME}\")"
      ]
    },
    {
      "cell_type": "code",
      "execution_count": null,
      "metadata": {},
      "outputs": [],
      "source": [
        "test_ds = ds_generator(path=\"dcrpi-167\", batch_size=1, to_1_hot= True, shuffle=False)\n",
        "preds = model.predict(test_ds)"
      ]
    },
    {
      "cell_type": "code",
      "execution_count": null,
      "metadata": {},
      "outputs": [],
      "source": [
        "y_preds = np.argmax(preds, axis=1)\n",
        "\n",
        "Y = []\n",
        "for images, labels in test_ds:\n",
        "    for label in labels:\n",
        "        Y.append(label)\n",
        "\n",
        "y_test = np.array(Y)"
      ]
    },
    {
      "cell_type": "code",
      "execution_count": null,
      "metadata": {},
      "outputs": [],
      "source": [
        "def show_images(i_s,images):\n",
        "    mid = (len(images))**0.5\n",
        "\n",
        "    nrows = int(np.ceil(mid))\n",
        "    ncols = int(np.floor(mid))\n",
        "    class_names = ['can','paper','plastic']\n",
        "    plt.figure(figsize=(14, 14))\n",
        "    # for images, labels in train_ds.take(1):\n",
        "    for i in range(len(images)):\n",
        "        ax = plt.subplot(nrows, ncols, i + 1)\n",
        "        plt.imshow(images[i].numpy().astype(\"uint8\"))\n",
        "        plt.title(f\"P-{class_names[y_preds[i_s[i]]]} A-{class_names[y_test[i_s[i]]]}\")\n",
        "        plt.axis(\"off\")"
      ]
    },
    {
      "cell_type": "code",
      "execution_count": null,
      "metadata": {},
      "outputs": [],
      "source": [
        "class_names = ['can','paper','plastic']\n",
        "images = []\n",
        "i_s = []\n",
        "for i, (image, label) in enumerate(test_ds):\n",
        "    if y_test[i] != y_preds[i]:\n",
        "        im = tf.squeeze(image)\n",
        "        if i==0: \n",
        "            print(im.shape)\n",
        "        images.append(im)\n",
        "        i_s.append(i)\n",
        "show_images(i_s,images)"
      ]
    },
    {
      "cell_type": "code",
      "execution_count": null,
      "metadata": {},
      "outputs": [],
      "source": [
        "cm = tf.math.confusion_matrix(y_test,y_preds)\n",
        "cm"
      ]
    },
    {
      "cell_type": "code",
      "execution_count": null,
      "metadata": {},
      "outputs": [],
      "source": [
        "train_ds = ds_generator(\"dataset\", 16, True)\n",
        "test_ds = ds_generator(\"dcrpi-167\", 16, True)"
      ]
    },
    {
      "cell_type": "code",
      "execution_count": null,
      "metadata": {},
      "outputs": [],
      "source": [
        "model.compile(optimizer=tf.keras.optimizers.SGD(lr=1e-3, momentum=0.9),loss=tf.keras.losses.CategoricalCrossentropy(),metrics=[tf.metrics.Recall() ])\n",
        "\n",
        "log_dir = f\"logs/{NEWMODELNAME}_p\"\n",
        "tf.keras.losses.mean_absolute_error\n",
        "# create a TensorBoard callback to visualize training metricsf\n",
        "tensorboard_callback = tf.keras.callbacks.TensorBoard(log_dir=log_dir, histogram_freq=1)\n",
        "\n",
        "checkpoint_callback = ModelCheckpoint(\n",
        "    filepath = f'Tuner/{NEWMODELNAME}_p/'+'{epoch:02d}.h5',\n",
        "    save_weights_only=False,\n",
        "    save_best_only=True,\n",
        "    save_freq='epoch',\n",
        "    verbose=1)"
      ]
    },
    {
      "cell_type": "code",
      "execution_count": null,
      "metadata": {},
      "outputs": [],
      "source": [
        "history = model.fit(  train_ds, \n",
        "validation_data=test_ds,\n",
        "callbacks=[checkpoint_callback,tensorboard_callback],\n",
        "epochs=50)"
      ]
    },
    {
      "cell_type": "code",
      "execution_count": null,
      "metadata": {},
      "outputs": [],
      "source": [
        "model.layers[-1].get_config()"
      ]
    },
    {
      "attachments": {},
      "cell_type": "markdown",
      "metadata": {},
      "source": [
        "## Retraining wz out the softmax layer"
      ]
    },
    {
      "cell_type": "code",
      "execution_count": 8,
      "metadata": {},
      "outputs": [],
      "source": [
        "MODEL_PATH = \"Models/ResNet50-STBv1.0_17_nosm_r\""
      ]
    },
    {
      "cell_type": "code",
      "execution_count": 26,
      "metadata": {},
      "outputs": [],
      "source": [
        "model = tf.keras.models.load_model(f\"{MODEL_PATH}\")"
      ]
    },
    {
      "cell_type": "code",
      "execution_count": 25,
      "metadata": {},
      "outputs": [],
      "source": [
        "second_to_last_layer_output = model.layers[-2].output # Get the output tensor of the second to last layer\n",
        "new_last_layer_output = tf.keras.layers.Dense(3,name='classification')(second_to_last_layer_output)\n",
        "model = tf.keras.models.Model(inputs=model.inputs, outputs=new_last_layer_output)"
      ]
    },
    {
      "cell_type": "code",
      "execution_count": 22,
      "metadata": {},
      "outputs": [
        {
          "data": {
            "text/plain": [
              "<KerasTensor: shape=(None, 256) dtype=float32 (created by layer 'dense_1')>"
            ]
          },
          "execution_count": 22,
          "metadata": {},
          "output_type": "execute_result"
        }
      ],
      "source": [
        "model.layers[-2].input"
      ]
    },
    {
      "cell_type": "code",
      "execution_count": 10,
      "metadata": {},
      "outputs": [
        {
          "name": "stdout",
          "output_type": "stream",
          "text": [
            "You must install pydot (`pip install pydot`) and install graphviz (see instructions at https://graphviz.gitlab.io/download/) for plot_model to work.\n"
          ]
        }
      ],
      "source": [
        "from tensorflow.keras.utils import plot_model\n",
        "plot_model(model, to_file=f'{MODEL_PATH}_structure.png', show_shapes=True, show_layer_names=True)"
      ]
    },
    {
      "cell_type": "code",
      "execution_count": 33,
      "metadata": {},
      "outputs": [
        {
          "name": "stderr",
          "output_type": "stream",
          "text": [
            "WARNING:absl:`lr` is deprecated in Keras optimizer, please use `learning_rate` or use the legacy optimizer, e.g.,tf.keras.optimizers.legacy.SGD.\n"
          ]
        }
      ],
      "source": [
        "model.compile(optimizer=tf.keras.optimizers.SGD(lr=1e-3, momentum=0.9),loss=tf.keras.losses.CategoricalCrossentropy(),metrics=[tf.metrics.Recall()])"
      ]
    },
    {
      "cell_type": "code",
      "execution_count": 34,
      "metadata": {},
      "outputs": [],
      "source": [
        "log_dir = f\"logs/{MODEL_PATH}_nosm_r\"\n",
        "tensorboard_callback = tf.keras.callbacks.TensorBoard(log_dir=log_dir, histogram_freq=1)"
      ]
    },
    {
      "cell_type": "code",
      "execution_count": 35,
      "metadata": {},
      "outputs": [],
      "source": [
        "checkpoint_callback = ModelCheckpoint(\n",
        "    filepath = f'Checkpoint/{MODEL_PATH}_nosm_r/'+'{epoch:02d}.h5',\n",
        "    save_weights_only=False,\n",
        "    save_best_only=False,\n",
        "    save_freq='epoch',\n",
        "    verbose=1)"
      ]
    },
    {
      "cell_type": "code",
      "execution_count": 36,
      "metadata": {},
      "outputs": [
        {
          "name": "stdout",
          "output_type": "stream",
          "text": [
            "Epoch 1/20\n",
            "3957/3957 [==============================] - ETA: 0s - loss: 2.2754 - recall_2: 0.8252\n",
            "Epoch 1: saving model to Checkpoint/Models/ResNet50-STBv1.0_17_nosm_r/01.h5\n",
            "3957/3957 [==============================] - 339s 85ms/step - loss: 2.2754 - recall_2: 0.8252 - val_loss: 4.9968 - val_recall_2: 0.7480\n",
            "Epoch 2/20\n",
            "3957/3957 [==============================] - ETA: 0s - loss: 2.6615 - recall_2: 0.5191\n",
            "Epoch 2: saving model to Checkpoint/Models/ResNet50-STBv1.0_17_nosm_r/02.h5\n",
            "3957/3957 [==============================] - 339s 86ms/step - loss: 2.6615 - recall_2: 0.5191 - val_loss: 6.1742 - val_recall_2: 0.3821\n",
            "Epoch 3/20\n",
            "3957/3957 [==============================] - ETA: 0s - loss: 4.3383 - recall_2: 0.7641\n",
            "Epoch 3: saving model to Checkpoint/Models/ResNet50-STBv1.0_17_nosm_r/03.h5\n",
            "3957/3957 [==============================] - 345s 87ms/step - loss: 4.3383 - recall_2: 0.7641 - val_loss: 4.6721 - val_recall_2: 0.7480\n",
            "Epoch 4/20\n",
            "3957/3957 [==============================] - ETA: 0s - loss: 3.2514 - recall_2: 0.8268\n",
            "Epoch 4: saving model to Checkpoint/Models/ResNet50-STBv1.0_17_nosm_r/04.h5\n",
            "3957/3957 [==============================] - 347s 88ms/step - loss: 3.2514 - recall_2: 0.8268 - val_loss: 4.5278 - val_recall_2: 0.7480\n",
            "Epoch 5/20\n",
            "3957/3957 [==============================] - ETA: 0s - loss: 3.1306 - recall_2: 0.8266\n",
            "Epoch 5: saving model to Checkpoint/Models/ResNet50-STBv1.0_17_nosm_r/05.h5\n",
            "3957/3957 [==============================] - 346s 87ms/step - loss: 3.1306 - recall_2: 0.8266 - val_loss: 4.4196 - val_recall_2: 0.7480\n",
            "Epoch 6/20\n",
            "3957/3957 [==============================] - ETA: 0s - loss: 3.0520 - recall_2: 0.8260\n",
            "Epoch 6: saving model to Checkpoint/Models/ResNet50-STBv1.0_17_nosm_r/06.h5\n",
            "3957/3957 [==============================] - 345s 87ms/step - loss: 3.0520 - recall_2: 0.8260 - val_loss: 4.3389 - val_recall_2: 0.7480\n",
            "Epoch 7/20\n",
            "3957/3957 [==============================] - ETA: 0s - loss: 2.9928 - recall_2: 0.8174\n",
            "Epoch 7: saving model to Checkpoint/Models/ResNet50-STBv1.0_17_nosm_r/07.h5\n",
            "3957/3957 [==============================] - 344s 87ms/step - loss: 2.9928 - recall_2: 0.8174 - val_loss: 4.2605 - val_recall_2: 0.7480\n",
            "Epoch 8/20\n",
            "3957/3957 [==============================] - ETA: 0s - loss: 3.0207 - recall_2: 0.8065\n",
            "Epoch 8: saving model to Checkpoint/Models/ResNet50-STBv1.0_17_nosm_r/08.h5\n",
            "3957/3957 [==============================] - 344s 87ms/step - loss: 3.0207 - recall_2: 0.8065 - val_loss: 4.1874 - val_recall_2: 0.7480\n",
            "Epoch 9/20\n",
            "3957/3957 [==============================] - ETA: 0s - loss: 2.9883 - recall_2: 0.7883\n",
            "Epoch 9: saving model to Checkpoint/Models/ResNet50-STBv1.0_17_nosm_r/09.h5\n",
            "3957/3957 [==============================] - 344s 87ms/step - loss: 2.9883 - recall_2: 0.7883 - val_loss: 4.1534 - val_recall_2: 0.7480\n",
            "Epoch 10/20\n",
            "3957/3957 [==============================] - ETA: 0s - loss: 3.1416 - recall_2: 0.7482\n",
            "Epoch 10: saving model to Checkpoint/Models/ResNet50-STBv1.0_17_nosm_r/10.h5\n",
            "3957/3957 [==============================] - 344s 87ms/step - loss: 3.1416 - recall_2: 0.7482 - val_loss: 4.0624 - val_recall_2: 0.7480\n",
            "Epoch 11/20\n",
            "3957/3957 [==============================] - ETA: 0s - loss: 3.1294 - recall_2: 0.7287\n",
            "Epoch 11: saving model to Checkpoint/Models/ResNet50-STBv1.0_17_nosm_r/11.h5\n",
            "3957/3957 [==============================] - 344s 87ms/step - loss: 3.1294 - recall_2: 0.7287 - val_loss: 4.1217 - val_recall_2: 0.7480\n",
            "Epoch 12/20\n",
            "3957/3957 [==============================] - ETA: 0s - loss: 3.0183 - recall_2: 0.7658\n",
            "Epoch 12: saving model to Checkpoint/Models/ResNet50-STBv1.0_17_nosm_r/12.h5\n",
            "3957/3957 [==============================] - 344s 87ms/step - loss: 3.0183 - recall_2: 0.7658 - val_loss: 4.0653 - val_recall_2: 0.7480\n",
            "Epoch 13/20\n",
            "3957/3957 [==============================] - ETA: 0s - loss: 2.9883 - recall_2: 0.7623\n",
            "Epoch 13: saving model to Checkpoint/Models/ResNet50-STBv1.0_17_nosm_r/13.h5\n",
            "3957/3957 [==============================] - 343s 87ms/step - loss: 2.9883 - recall_2: 0.7623 - val_loss: 4.0623 - val_recall_2: 0.7480\n",
            "Epoch 14/20\n",
            "3957/3957 [==============================] - ETA: 0s - loss: 2.9913 - recall_2: 0.7598\n",
            "Epoch 14: saving model to Checkpoint/Models/ResNet50-STBv1.0_17_nosm_r/14.h5\n",
            "3957/3957 [==============================] - 343s 87ms/step - loss: 2.9913 - recall_2: 0.7598 - val_loss: 4.0623 - val_recall_2: 0.7480\n",
            "Epoch 15/20\n",
            "3957/3957 [==============================] - ETA: 0s - loss: 3.0149 - recall_2: 0.7584\n",
            "Epoch 15: saving model to Checkpoint/Models/ResNet50-STBv1.0_17_nosm_r/15.h5\n",
            "3957/3957 [==============================] - 343s 87ms/step - loss: 3.0149 - recall_2: 0.7584 - val_loss: 4.0623 - val_recall_2: 0.7480\n",
            "Epoch 16/20\n",
            "3957/3957 [==============================] - ETA: 0s - loss: 3.0085 - recall_2: 0.7564\n",
            "Epoch 16: saving model to Checkpoint/Models/ResNet50-STBv1.0_17_nosm_r/16.h5\n",
            "3957/3957 [==============================] - 343s 87ms/step - loss: 3.0085 - recall_2: 0.7564 - val_loss: 4.0623 - val_recall_2: 0.7480\n",
            "Epoch 17/20\n",
            "3957/3957 [==============================] - ETA: 0s - loss: 2.9775 - recall_2: 0.7541\n",
            "Epoch 17: saving model to Checkpoint/Models/ResNet50-STBv1.0_17_nosm_r/17.h5\n",
            "3957/3957 [==============================] - 345s 87ms/step - loss: 2.9775 - recall_2: 0.7541 - val_loss: 4.0623 - val_recall_2: 0.7480\n",
            "Epoch 18/20\n",
            "3957/3957 [==============================] - ETA: 0s - loss: 2.9995 - recall_2: 0.7573\n",
            "Epoch 18: saving model to Checkpoint/Models/ResNet50-STBv1.0_17_nosm_r/18.h5\n",
            "3957/3957 [==============================] - 341s 86ms/step - loss: 2.9995 - recall_2: 0.7573 - val_loss: 4.0623 - val_recall_2: 0.7480\n",
            "Epoch 19/20\n",
            "3957/3957 [==============================] - ETA: 0s - loss: 3.0020 - recall_2: 0.7578\n",
            "Epoch 19: saving model to Checkpoint/Models/ResNet50-STBv1.0_17_nosm_r/19.h5\n",
            "3957/3957 [==============================] - 341s 86ms/step - loss: 3.0020 - recall_2: 0.7578 - val_loss: 4.0623 - val_recall_2: 0.7480\n",
            "Epoch 20/20\n",
            "3957/3957 [==============================] - ETA: 0s - loss: 3.0262 - recall_2: 0.7583\n",
            "Epoch 20: saving model to Checkpoint/Models/ResNet50-STBv1.0_17_nosm_r/20.h5\n",
            "3957/3957 [==============================] - 341s 86ms/step - loss: 3.0262 - recall_2: 0.7583 - val_loss: 4.0623 - val_recall_2: 0.7480\n"
          ]
        }
      ],
      "source": [
        "history = model.fit(  train_ds, \n",
        "validation_data=test_ds,\n",
        "callbacks=[tensorboard_callback,checkpoint_callback],\n",
        "epochs=20)"
      ]
    },
    {
      "cell_type": "code",
      "execution_count": null,
      "metadata": {},
      "outputs": [],
      "source": [
        "model.save(f\"{MODEL_PATH}_nosm_r\")"
      ]
    },
    {
      "cell_type": "code",
      "execution_count": 38,
      "metadata": {},
      "outputs": [
        {
          "data": {
            "image/png": "[encoded data removed]",
            "text/plain": [
              "<Figure size 800x800 with 2 Axes>"
            ]
          },
          "metadata": {},
          "output_type": "display_data"
        }
      ],
      "source": [
        "acc = history.history['recall_2']\n",
        "val_acc = history.history['val_recall_2']\n",
        "\n",
        "loss = history.history['loss']\n",
        "val_loss = history.history['val_loss']\n",
        "\n",
        "plt.figure(figsize=(8, 8))\n",
        "plt.subplot(2, 1, 1)\n",
        "plt.plot(acc, label='Training recall')\n",
        "plt.plot(val_acc, label='Validation recall')\n",
        "plt.legend(loc='lower right')\n",
        "plt.ylabel('accuracy')\n",
        "plt.ylim([min(plt.ylim()),1])\n",
        "plt.title('Training and Validation recall')\n",
        "\n",
        "plt.subplot(2, 1, 2)\n",
        "plt.plot(loss, label='Training Loss')\n",
        "plt.plot(val_loss, label='Validation Loss')\n",
        "plt.legend(loc='upper right')\n",
        "plt.ylabel('Cross Entropy')\n",
        "# plt.ylim([0,1.0])\n",
        "plt.title('Training and Validation Loss')\n",
        "plt.xlabel('epoch')\n",
        "plt.show()"
      ]
    },
    {
      "cell_type": "code",
      "execution_count": 28,
      "metadata": {},
      "outputs": [
        {
          "name": "stdout",
          "output_type": "stream",
          "text": [
            "8/8 [==============================] - 1s 62ms/step - loss: 4.0623 - recall_2: 0.7480\n"
          ]
        },
        {
          "data": {
            "text/plain": [
              "[4.062283992767334, 0.7479674816131592]"
            ]
          },
          "execution_count": 28,
          "metadata": {},
          "output_type": "execute_result"
        }
      ],
      "source": [
        "model.evaluate(test_ds)"
      ]
    },
    {
      "cell_type": "code",
      "execution_count": 29,
      "metadata": {},
      "outputs": [],
      "source": [
        "Y = []\n",
        "for images, labels in test_ds:\n",
        "    for label in labels:\n",
        "        Y.append(label)\n",
        "\n",
        "y_test = np.array(Y)\n",
        "y_test=np.argmax(y_test,axis=1)"
      ]
    },
    {
      "cell_type": "code",
      "execution_count": 34,
      "metadata": {},
      "outputs": [
        {
          "name": "stdout",
          "output_type": "stream",
          "text": [
            "8/8 [==============================] - 0s 59ms/step\n"
          ]
        }
      ],
      "source": [
        "preds = model.predict(test_ds)\n",
        "y_preds=np.argmax(preds,axis=1)"
      ]
    },
    {
      "cell_type": "code",
      "execution_count": null,
      "metadata": {},
      "outputs": [],
      "source": [
        "cm = tf.math.confusion_matrix(y_test,y_preds)\n",
        "cm"
      ]
    },
    {
      "cell_type": "code",
      "execution_count": null,
      "metadata": {},
      "outputs": [],
      "source": [
        "temp = 1\n",
        "tf.nn.softmax(preds/temp)"
      ]
    },
    {
      "cell_type": "code",
      "execution_count": 13,
      "metadata": {},
      "outputs": [],
      "source": [
        "prev_model = keras.models.load_model(\"Models/ResNet50-STBv1.0_17\")"
      ]
    },
    {
      "cell_type": "code",
      "execution_count": 14,
      "metadata": {},
      "outputs": [
        {
          "name": "stdout",
          "output_type": "stream",
          "text": [
            "8/8 [==============================] - 1s 62ms/step\n"
          ]
        }
      ],
      "source": [
        "prev_preds = prev_model.predict(test_ds)"
      ]
    },
    {
      "cell_type": "code",
      "execution_count": 18,
      "metadata": {},
      "outputs": [
        {
          "data": {
            "text/plain": [
              "array([[4.53154417e-03, 3.12282395e-06, 9.95465338e-01],\n",
              "       [6.06396124e-02, 5.71045057e-05, 9.39303339e-01],\n",
              "       [6.94732130e-01, 1.85124315e-02, 2.86755413e-01],\n",
              "       [9.99998927e-01, 8.22286239e-09, 1.10338294e-06],\n",
              "       [1.00000000e+00, 1.65076758e-10, 1.44687554e-10],\n",
              "       [9.12578106e-01, 5.25059004e-05, 8.73693749e-02],\n",
              "       [9.98959422e-01, 1.16388446e-06, 1.03934540e-03],\n",
              "       [5.46989381e-01, 1.18780772e-04, 4.52891827e-01],\n",
              "       [9.99991179e-01, 1.77538971e-06, 7.03336400e-06],\n",
              "       [9.98581171e-01, 9.16323334e-05, 1.32719334e-03],\n",
              "       [9.99999642e-01, 1.49498796e-08, 4.14590431e-07],\n",
              "       [9.99998808e-01, 1.51012411e-08, 1.15019031e-06],\n",
              "       [9.99985695e-01, 1.08723988e-07, 1.41547862e-05],\n",
              "       [9.99999762e-01, 7.09233348e-08, 1.56168966e-07],\n",
              "       [9.99988675e-01, 5.14213934e-06, 6.14909050e-06],\n",
              "       [9.99979019e-01, 7.12079964e-06, 1.38289224e-05],\n",
              "       [9.99136746e-01, 3.06691727e-05, 8.32723046e-04],\n",
              "       [9.99805391e-01, 8.99455790e-06, 1.85650366e-04],\n",
              "       [9.98203516e-01, 3.77385586e-05, 1.75872480e-03],\n",
              "       [9.08487082e-01, 4.74433706e-04, 9.10384804e-02],\n",
              "       [1.00000000e+00, 4.97418874e-17, 2.97177638e-17],\n",
              "       [1.00000000e+00, 1.66239970e-16, 1.60316698e-15],\n",
              "       [1.00000000e+00, 5.45899592e-09, 3.14664028e-08],\n",
              "       [1.00000000e+00, 1.16313510e-08, 2.90093922e-08],\n",
              "       [1.00000000e+00, 1.70421403e-11, 6.11232176e-11],\n",
              "       [9.99971271e-01, 8.65191566e-07, 2.78484458e-05],\n",
              "       [9.99651790e-01, 1.09069857e-04, 2.39217858e-04],\n",
              "       [9.99989867e-01, 5.68065161e-07, 9.54222833e-06],\n",
              "       [9.99990463e-01, 5.18393961e-07, 9.04440549e-06],\n",
              "       [9.99991655e-01, 4.86903048e-07, 7.88169382e-06],\n",
              "       [9.99989748e-01, 5.70458155e-07, 9.64601895e-06],\n",
              "       [1.76430058e-05, 9.99972582e-01, 9.79686683e-06],\n",
              "       [1.69756133e-02, 9.80117261e-01, 2.90707801e-03],\n",
              "       [9.99968886e-01, 1.80034967e-05, 1.31003590e-05],\n",
              "       [1.94410831e-02, 9.77305532e-01, 3.25342664e-03],\n",
              "       [3.56781870e-01, 6.35206461e-01, 8.01168662e-03],\n",
              "       [9.58264053e-01, 3.72947892e-03, 3.80064137e-02],\n",
              "       [4.67472157e-04, 9.98722017e-01, 8.10580736e-04],\n",
              "       [1.26954819e-06, 9.99997616e-01, 1.04417541e-06],\n",
              "       [1.36239225e-06, 9.99997258e-01, 1.39668907e-06],\n",
              "       [1.65252004e-05, 9.99960661e-01, 2.28041226e-05],\n",
              "       [9.03893306e-05, 9.99756753e-01, 1.52871246e-04],\n",
              "       [1.48475170e-03, 9.98033226e-01, 4.81945579e-04],\n",
              "       [4.21419948e-01, 5.74012756e-01, 4.56735492e-03],\n",
              "       [9.91052210e-01, 5.46008162e-03, 3.48763890e-03],\n",
              "       [7.46818492e-04, 9.98883426e-01, 3.69763671e-04],\n",
              "       [2.23043797e-04, 9.99574482e-01, 2.02442287e-04],\n",
              "       [1.14837285e-05, 9.99981880e-01, 6.68548273e-06],\n",
              "       [9.99998093e-01, 6.77079072e-07, 1.23927191e-06],\n",
              "       [9.99942660e-01, 7.26773669e-06, 5.01051691e-05],\n",
              "       [9.99996901e-01, 4.48108665e-07, 2.61374339e-06],\n",
              "       [3.75399217e-02, 1.06635701e-03, 9.61393714e-01],\n",
              "       [9.99964237e-01, 3.49229376e-05, 8.70725557e-07],\n",
              "       [9.82498407e-01, 1.68499481e-02, 6.51719864e-04],\n",
              "       [8.95686448e-01, 2.20205132e-02, 8.22930336e-02],\n",
              "       [1.34056985e-01, 9.10870880e-02, 7.74855912e-01],\n",
              "       [4.63180331e-04, 9.98403251e-01, 1.13349559e-03],\n",
              "       [5.25407144e-04, 9.98181224e-01, 1.29343662e-03],\n",
              "       [4.40856908e-04, 9.98394549e-01, 1.16454612e-03],\n",
              "       [4.23869817e-04, 9.98522460e-01, 1.05363387e-03],\n",
              "       [2.34423913e-02, 4.96858150e-01, 4.79699433e-01],\n",
              "       [4.49184924e-02, 7.14729786e-01, 2.40351722e-01],\n",
              "       [5.01824543e-02, 6.30951345e-01, 3.18866193e-01],\n",
              "       [2.69727826e-01, 3.93093258e-01, 3.37178886e-01],\n",
              "       [1.12164095e-01, 2.15377688e-01, 6.72458172e-01],\n",
              "       [6.32160984e-04, 9.96764541e-01, 2.60330713e-03],\n",
              "       [2.03201212e-02, 6.83257818e-01, 2.96421975e-01],\n",
              "       [5.36874461e-04, 9.97296989e-01, 2.16613640e-03],\n",
              "       [6.93203940e-04, 9.96164799e-01, 3.14204325e-03],\n",
              "       [1.15295980e-18, 6.17924132e-19, 1.00000000e+00],\n",
              "       [9.80303943e-01, 3.02216707e-04, 1.93938334e-02],\n",
              "       [9.99910831e-01, 9.98188966e-07, 8.82111053e-05],\n",
              "       [7.05959519e-06, 6.04111665e-06, 9.99986887e-01],\n",
              "       [9.99999762e-01, 9.11790732e-09, 2.22350266e-07],\n",
              "       [8.86263371e-01, 1.26173923e-04, 1.13610499e-01],\n",
              "       [9.99999881e-01, 2.96927816e-09, 8.52248121e-08],\n",
              "       [9.55521584e-01, 5.67109873e-06, 4.44726981e-02],\n",
              "       [8.73161989e-05, 2.20053989e-05, 9.99890685e-01],\n",
              "       [4.57389541e-02, 1.24417618e-03, 9.53016877e-01],\n",
              "       [1.90635771e-03, 9.29890871e-01, 6.82027638e-02],\n",
              "       [1.15607651e-02, 2.77992978e-04, 9.88161206e-01],\n",
              "       [4.23258734e-06, 1.21718285e-05, 9.99983549e-01],\n",
              "       [4.38367397e-01, 3.60395759e-04, 5.61272204e-01],\n",
              "       [3.83303404e-01, 3.84001731e-04, 6.16312623e-01],\n",
              "       [4.48639047e-16, 3.22867995e-15, 1.00000000e+00],\n",
              "       [1.86514324e-13, 3.83165586e-13, 1.00000000e+00],\n",
              "       [7.50371820e-10, 1.46203192e-08, 1.00000000e+00],\n",
              "       [8.04789098e-17, 7.63563017e-15, 1.00000000e+00],\n",
              "       [6.18772256e-11, 6.33762931e-10, 1.00000000e+00],\n",
              "       [1.61561771e-11, 2.05452724e-10, 1.00000000e+00],\n",
              "       [1.66401642e-05, 3.60569131e-04, 9.99622822e-01],\n",
              "       [1.05969511e-05, 8.44350725e-05, 9.99904990e-01],\n",
              "       [4.36768751e-05, 2.46338546e-04, 9.99709904e-01],\n",
              "       [3.85747189e-05, 1.62766300e-04, 9.99798715e-01],\n",
              "       [1.66770983e-02, 8.76236241e-03, 9.74560559e-01],\n",
              "       [2.64225364e-01, 1.24627464e-02, 7.23311901e-01],\n",
              "       [4.29543816e-02, 1.05350032e-01, 8.51695597e-01],\n",
              "       [2.20527927e-05, 9.99779999e-01, 1.98004578e-04],\n",
              "       [2.61645505e-06, 4.40701078e-05, 9.99953270e-01],\n",
              "       [1.74052578e-16, 1.41112084e-13, 1.00000000e+00],\n",
              "       [1.89521306e-16, 1.40005114e-13, 1.00000000e+00],\n",
              "       [4.55932128e-15, 3.17268672e-12, 1.00000000e+00],\n",
              "       [3.42426330e-19, 5.21724735e-15, 1.00000000e+00],\n",
              "       [1.41250239e-05, 3.77885252e-01, 6.22100651e-01],\n",
              "       [3.15978127e-07, 8.16833228e-03, 9.91831362e-01],\n",
              "       [8.70528655e-27, 2.31505069e-23, 1.00000000e+00],\n",
              "       [9.85733779e-14, 3.47293333e-10, 1.00000000e+00],\n",
              "       [1.89264137e-02, 1.49571815e-05, 9.81058657e-01],\n",
              "       [4.74956214e-01, 3.10615636e-04, 5.24733186e-01],\n",
              "       [9.99946833e-01, 3.83991573e-06, 4.93291773e-05],\n",
              "       [9.99960780e-01, 2.65639346e-06, 3.66201602e-05],\n",
              "       [9.99965668e-01, 2.53015014e-06, 3.18632156e-05],\n",
              "       [9.99959588e-01, 3.04884770e-06, 3.73483344e-05],\n",
              "       [3.50629463e-08, 3.18453402e-07, 9.99999642e-01],\n",
              "       [3.74656179e-06, 1.20936511e-06, 9.99994993e-01],\n",
              "       [3.87140666e-08, 3.78087691e-07, 9.99999642e-01],\n",
              "       [2.98088116e-06, 1.02990168e-06, 9.99995947e-01],\n",
              "       [5.32715814e-03, 1.86872929e-02, 9.75985587e-01],\n",
              "       [4.34635580e-03, 9.41673177e-04, 9.94711995e-01],\n",
              "       [6.22395892e-03, 2.13797409e-02, 9.72396314e-01],\n",
              "       [2.79348181e-03, 7.59406772e-04, 9.96447146e-01],\n",
              "       [4.80337581e-03, 2.32051294e-02, 9.71991479e-01],\n",
              "       [1.27339095e-01, 2.55095353e-03, 8.70109916e-01]], dtype=float32)"
            ]
          },
          "execution_count": 18,
          "metadata": {},
          "output_type": "execute_result"
        }
      ],
      "source": [
        "prev_preds"
      ]
    },
    {
      "cell_type": "code",
      "execution_count": 15,
      "metadata": {},
      "outputs": [
        {
          "data": {
            "text/plain": [
              "array([2, 2, 0, 0, 0, 0, 0, 0, 0, 0, 0, 0, 0, 0, 0, 0, 0, 0, 0, 0, 0, 0,\n",
              "       0, 0, 0, 0, 0, 0, 0, 0, 0, 1, 1, 0, 1, 1, 0, 1, 1, 1, 1, 1, 1, 1,\n",
              "       0, 1, 1, 1, 0, 0, 0, 2, 0, 0, 0, 2, 1, 1, 1, 1, 1, 1, 1, 1, 2, 1,\n",
              "       1, 1, 1, 2, 0, 0, 2, 0, 0, 0, 0, 2, 2, 1, 2, 2, 2, 2, 2, 2, 2, 2,\n",
              "       2, 2, 2, 2, 2, 2, 2, 2, 2, 1, 2, 2, 2, 2, 2, 2, 2, 2, 2, 2, 2, 0,\n",
              "       0, 0, 0, 2, 2, 2, 2, 2, 2, 2, 2, 2, 2])"
            ]
          },
          "execution_count": 15,
          "metadata": {},
          "output_type": "execute_result"
        }
      ],
      "source": [
        "np.argmax(prev_preds,axis=1)"
      ]
    },
    {
      "cell_type": "code",
      "execution_count": 16,
      "metadata": {},
      "outputs": [
        {
          "name": "stdout",
          "output_type": "stream",
          "text": [
            "Model: \"model_2\"\n",
            "_________________________________________________________________\n",
            " Layer (type)                Output Shape              Param #   \n",
            "=================================================================\n",
            " input_2 (InputLayer)        [(None, 224, 224, 3)]     0         \n",
            "                                                                 \n",
            " sequential (Sequential)     (None, 224, 224, 3)       0         \n",
            "                                                                 \n",
            " resnet50 (Functional)       (None, 7, 7, 2048)        23587712  \n",
            "                                                                 \n",
            " global_average_pooling2d (G  (None, 2048)             0         \n",
            " lobalAveragePooling2D)                                          \n",
            "                                                                 \n",
            " dense (Dense)               (None, 256)               524544    \n",
            "                                                                 \n",
            " dense_1 (Dense)             (None, 256)               65792     \n",
            "                                                                 \n",
            " dropout (Dropout)           (None, 256)               0         \n",
            "                                                                 \n",
            " classification (Dense)      (None, 3)                 771       \n",
            "                                                                 \n",
            "=================================================================\n",
            "Total params: 24,178,819\n",
            "Trainable params: 676,355\n",
            "Non-trainable params: 23,502,464\n",
            "_________________________________________________________________\n"
          ]
        }
      ],
      "source": [
        "model.summary()"
      ]
    },
    {
      "cell_type": "code",
      "execution_count": 17,
      "metadata": {},
      "outputs": [
        {
          "name": "stdout",
          "output_type": "stream",
          "text": [
            "Model: \"model\"\n",
            "_________________________________________________________________\n",
            " Layer (type)                Output Shape              Param #   \n",
            "=================================================================\n",
            " input_2 (InputLayer)        [(None, 224, 224, 3)]     0         \n",
            "                                                                 \n",
            " sequential (Sequential)     (None, 224, 224, 3)       0         \n",
            "                                                                 \n",
            " resnet50 (Functional)       (None, 7, 7, 2048)        23587712  \n",
            "                                                                 \n",
            " global_average_pooling2d (G  (None, 2048)             0         \n",
            " lobalAveragePooling2D)                                          \n",
            "                                                                 \n",
            " dense (Dense)               (None, 256)               524544    \n",
            "                                                                 \n",
            " dense_1 (Dense)             (None, 256)               65792     \n",
            "                                                                 \n",
            " dropout (Dropout)           (None, 256)               0         \n",
            "                                                                 \n",
            " dense_2 (Dense)             (None, 3)                 771       \n",
            "                                                                 \n",
            "=================================================================\n",
            "Total params: 24,178,819\n",
            "Trainable params: 676,355\n",
            "Non-trainable params: 23,502,464\n",
            "_________________________________________________________________\n"
          ]
        }
      ],
      "source": [
        "prev_model.summary()"
      ]
    },
    {
      "cell_type": "code",
      "execution_count": 65,
      "metadata": {},
      "outputs": [
        {
          "data": {
            "text/plain": [
              "'resnet50'"
            ]
          },
          "execution_count": 65,
          "metadata": {},
          "output_type": "execute_result"
        }
      ],
      "source": [
        "model.layers[2].name"
      ]
    },
    {
      "cell_type": "code",
      "execution_count": 37,
      "metadata": {},
      "outputs": [],
      "source": [
        "layer_outputs = [layer.output for layer in model.layers if layer != 'resnet50']"
      ]
    },
    {
      "cell_type": "code",
      "execution_count": 40,
      "metadata": {},
      "outputs": [
        {
          "data": {
            "text/plain": [
              "[<KerasTensor: shape=(None, 224, 224, 3) dtype=float32 (created by layer 'input_2')>,\n",
              " <KerasTensor: shape=(None, 224, 224, 3) dtype=float32 (created by layer 'random_rotation')>,\n",
              " <KerasTensor: shape=(None, 7, 7, 2048) dtype=float32 (created by layer 'conv5_block3_out')>,\n",
              " <KerasTensor: shape=(None, 2048) dtype=float32 (created by layer 'global_average_pooling2d')>,\n",
              " <KerasTensor: shape=(None, 256) dtype=float32 (created by layer 'dense')>,\n",
              " <KerasTensor: shape=(None, 256) dtype=float32 (created by layer 'dense_1')>,\n",
              " <KerasTensor: shape=(None, 256) dtype=float32 (created by layer 'dropout')>,\n",
              " <KerasTensor: shape=(None, 3) dtype=float32 (created by layer 'classification')>]"
            ]
          },
          "execution_count": 40,
          "metadata": {},
          "output_type": "execute_result"
        }
      ],
      "source": [
        "layer_outputs"
      ]
    },
    {
      "cell_type": "code",
      "execution_count": null,
      "metadata": {},
      "outputs": [],
      "source": [
        "a = [1, 2]"
      ]
    },
    {
      "cell_type": "code",
      "execution_count": null,
      "metadata": {},
      "outputs": [
        {
          "ename": "",
          "evalue": "",
          "output_type": "error",
          "traceback": [
            "\u001b[1;31mThe Kernel crashed while executing code in the the current cell or a previous cell. Please review the code in the cell(s) to identify a possible cause of the failure. Click <a href='https://aka.ms/vscodeJupyterKernelCrash'>here</a> for more info. View Jupyter <a href='command:jupyter.viewOutput'>log</a> for further details."
          ]
        }
      ],
      "source": [
        "model.layers[2].summary()"
      ]
    },
    {
      "cell_type": "code",
      "execution_count": 41,
      "metadata": {},
      "outputs": [
        {
          "ename": "ValueError",
          "evalue": "Graph disconnected: cannot obtain value for tensor KerasTensor(type_spec=TensorSpec(shape=(None, 224, 224, 3), dtype=tf.float32, name='input_1'), name='input_1', description=\"created by layer 'input_1'\") at layer \"conv1_pad\". The following previous layers were accessed without issue: []",
          "output_type": "error",
          "traceback": [
            "\u001b[0;31m---------------------------------------------------------------------------\u001b[0m",
            "\u001b[0;31mValueError\u001b[0m                                Traceback (most recent call last)",
            "Cell \u001b[0;32mIn[41], line 1\u001b[0m\n\u001b[0;32m----> 1\u001b[0m activation_model \u001b[39m=\u001b[39m tf\u001b[39m.\u001b[39;49mkeras\u001b[39m.\u001b[39;49mModel(inputs\u001b[39m=\u001b[39;49mmodel\u001b[39m.\u001b[39;49minput, outputs\u001b[39m=\u001b[39;49mlayer_outputs[\u001b[39m1\u001b[39;49m:])\n",
            "File \u001b[0;32m~/Desktop/sdp/test_1/lib/python3.10/site-packages/tensorflow/python/trackable/base.py:205\u001b[0m, in \u001b[0;36mno_automatic_dependency_tracking.<locals>._method_wrapper\u001b[0;34m(self, *args, **kwargs)\u001b[0m\n\u001b[1;32m    203\u001b[0m \u001b[39mself\u001b[39m\u001b[39m.\u001b[39m_self_setattr_tracking \u001b[39m=\u001b[39m \u001b[39mFalse\u001b[39;00m  \u001b[39m# pylint: disable=protected-access\u001b[39;00m\n\u001b[1;32m    204\u001b[0m \u001b[39mtry\u001b[39;00m:\n\u001b[0;32m--> 205\u001b[0m   result \u001b[39m=\u001b[39m method(\u001b[39mself\u001b[39;49m, \u001b[39m*\u001b[39;49margs, \u001b[39m*\u001b[39;49m\u001b[39m*\u001b[39;49mkwargs)\n\u001b[1;32m    206\u001b[0m \u001b[39mfinally\u001b[39;00m:\n\u001b[1;32m    207\u001b[0m   \u001b[39mself\u001b[39m\u001b[39m.\u001b[39m_self_setattr_tracking \u001b[39m=\u001b[39m previous_value  \u001b[39m# pylint: disable=protected-access\u001b[39;00m\n",
            "File \u001b[0;32m~/Desktop/sdp/test_1/lib/python3.10/site-packages/keras/engine/functional.py:167\u001b[0m, in \u001b[0;36mFunctional.__init__\u001b[0;34m(self, inputs, outputs, name, trainable, **kwargs)\u001b[0m\n\u001b[1;32m    158\u001b[0m     \u001b[39mif\u001b[39;00m \u001b[39mnot\u001b[39;00m \u001b[39mall\u001b[39m(\n\u001b[1;32m    159\u001b[0m         [\n\u001b[1;32m    160\u001b[0m             functional_utils\u001b[39m.\u001b[39mis_input_keras_tensor(t)\n\u001b[1;32m    161\u001b[0m             \u001b[39mfor\u001b[39;00m t \u001b[39min\u001b[39;00m tf\u001b[39m.\u001b[39mnest\u001b[39m.\u001b[39mflatten(inputs)\n\u001b[1;32m    162\u001b[0m         ]\n\u001b[1;32m    163\u001b[0m     ):\n\u001b[1;32m    164\u001b[0m         inputs, outputs \u001b[39m=\u001b[39m functional_utils\u001b[39m.\u001b[39mclone_graph_nodes(\n\u001b[1;32m    165\u001b[0m             inputs, outputs\n\u001b[1;32m    166\u001b[0m         )\n\u001b[0;32m--> 167\u001b[0m \u001b[39mself\u001b[39;49m\u001b[39m.\u001b[39;49m_init_graph_network(inputs, outputs)\n",
            "File \u001b[0;32m~/Desktop/sdp/test_1/lib/python3.10/site-packages/tensorflow/python/trackable/base.py:205\u001b[0m, in \u001b[0;36mno_automatic_dependency_tracking.<locals>._method_wrapper\u001b[0;34m(self, *args, **kwargs)\u001b[0m\n\u001b[1;32m    203\u001b[0m \u001b[39mself\u001b[39m\u001b[39m.\u001b[39m_self_setattr_tracking \u001b[39m=\u001b[39m \u001b[39mFalse\u001b[39;00m  \u001b[39m# pylint: disable=protected-access\u001b[39;00m\n\u001b[1;32m    204\u001b[0m \u001b[39mtry\u001b[39;00m:\n\u001b[0;32m--> 205\u001b[0m   result \u001b[39m=\u001b[39m method(\u001b[39mself\u001b[39;49m, \u001b[39m*\u001b[39;49margs, \u001b[39m*\u001b[39;49m\u001b[39m*\u001b[39;49mkwargs)\n\u001b[1;32m    206\u001b[0m \u001b[39mfinally\u001b[39;00m:\n\u001b[1;32m    207\u001b[0m   \u001b[39mself\u001b[39m\u001b[39m.\u001b[39m_self_setattr_tracking \u001b[39m=\u001b[39m previous_value  \u001b[39m# pylint: disable=protected-access\u001b[39;00m\n",
            "File \u001b[0;32m~/Desktop/sdp/test_1/lib/python3.10/site-packages/keras/engine/functional.py:266\u001b[0m, in \u001b[0;36mFunctional._init_graph_network\u001b[0;34m(self, inputs, outputs)\u001b[0m\n\u001b[1;32m    263\u001b[0m     \u001b[39mself\u001b[39m\u001b[39m.\u001b[39m_input_coordinates\u001b[39m.\u001b[39mappend((layer, node_index, tensor_index))\n\u001b[1;32m    265\u001b[0m \u001b[39m# Keep track of the network's nodes and layers.\u001b[39;00m\n\u001b[0;32m--> 266\u001b[0m nodes, nodes_by_depth, layers, _ \u001b[39m=\u001b[39m _map_graph_network(\n\u001b[1;32m    267\u001b[0m     \u001b[39mself\u001b[39;49m\u001b[39m.\u001b[39;49minputs, \u001b[39mself\u001b[39;49m\u001b[39m.\u001b[39;49moutputs\n\u001b[1;32m    268\u001b[0m )\n\u001b[1;32m    269\u001b[0m \u001b[39mself\u001b[39m\u001b[39m.\u001b[39m_network_nodes \u001b[39m=\u001b[39m nodes\n\u001b[1;32m    270\u001b[0m \u001b[39mself\u001b[39m\u001b[39m.\u001b[39m_nodes_by_depth \u001b[39m=\u001b[39m nodes_by_depth\n",
            "File \u001b[0;32m~/Desktop/sdp/test_1/lib/python3.10/site-packages/keras/engine/functional.py:1142\u001b[0m, in \u001b[0;36m_map_graph_network\u001b[0;34m(inputs, outputs)\u001b[0m\n\u001b[1;32m   1140\u001b[0m \u001b[39mfor\u001b[39;00m x \u001b[39min\u001b[39;00m tf\u001b[39m.\u001b[39mnest\u001b[39m.\u001b[39mflatten(node\u001b[39m.\u001b[39mkeras_inputs):\n\u001b[1;32m   1141\u001b[0m     \u001b[39mif\u001b[39;00m \u001b[39mid\u001b[39m(x) \u001b[39mnot\u001b[39;00m \u001b[39min\u001b[39;00m computable_tensors:\n\u001b[0;32m-> 1142\u001b[0m         \u001b[39mraise\u001b[39;00m \u001b[39mValueError\u001b[39;00m(\n\u001b[1;32m   1143\u001b[0m             \u001b[39m\"\u001b[39m\u001b[39mGraph disconnected: cannot obtain value for \u001b[39m\u001b[39m\"\u001b[39m\n\u001b[1;32m   1144\u001b[0m             \u001b[39mf\u001b[39m\u001b[39m'\u001b[39m\u001b[39mtensor \u001b[39m\u001b[39m{\u001b[39;00mx\u001b[39m}\u001b[39;00m\u001b[39m at layer \u001b[39m\u001b[39m\"\u001b[39m\u001b[39m{\u001b[39;00mlayer\u001b[39m.\u001b[39mname\u001b[39m}\u001b[39;00m\u001b[39m\"\u001b[39m\u001b[39m. \u001b[39m\u001b[39m'\u001b[39m\n\u001b[1;32m   1145\u001b[0m             \u001b[39m\"\u001b[39m\u001b[39mThe following previous layers were accessed \u001b[39m\u001b[39m\"\u001b[39m\n\u001b[1;32m   1146\u001b[0m             \u001b[39mf\u001b[39m\u001b[39m\"\u001b[39m\u001b[39mwithout issue: \u001b[39m\u001b[39m{\u001b[39;00mlayers_with_complete_input\u001b[39m}\u001b[39;00m\u001b[39m\"\u001b[39m\n\u001b[1;32m   1147\u001b[0m         )\n\u001b[1;32m   1148\u001b[0m \u001b[39mfor\u001b[39;00m x \u001b[39min\u001b[39;00m tf\u001b[39m.\u001b[39mnest\u001b[39m.\u001b[39mflatten(node\u001b[39m.\u001b[39moutputs):\n\u001b[1;32m   1149\u001b[0m     computable_tensors\u001b[39m.\u001b[39madd(\u001b[39mid\u001b[39m(x))\n",
            "\u001b[0;31mValueError\u001b[0m: Graph disconnected: cannot obtain value for tensor KerasTensor(type_spec=TensorSpec(shape=(None, 224, 224, 3), dtype=tf.float32, name='input_1'), name='input_1', description=\"created by layer 'input_1'\") at layer \"conv1_pad\". The following previous layers were accessed without issue: []"
          ]
        }
      ],
      "source": [
        "activation_model = tf.keras.Model(inputs=model.input, outputs=layer_outputs[:])"
      ]
    },
    {
      "cell_type": "code",
      "execution_count": null,
      "metadata": {},
      "outputs": [],
      "source": [
        "from keras import backend as K\n",
        "\n",
        "inp = model.input                                           # input placeholder\n",
        "outputs = [layer.output for layer in model.layers]          # all layer outputs\n",
        "functors = [K.function([inp, K.learning_phase()], [out]) for out in outputs] \n"
      ]
    },
    {
      "cell_type": "code",
      "execution_count": null,
      "metadata": {},
      "outputs": [],
      "source": [
        "# Test the model with some sample data\n",
        "x_test = tf.ones((1, 10))\n",
        "y_pred = model.predict(x_test)\n",
        "layer_outputs = activation_model.predict(x_test)\n",
        "\n",
        "# Print the output values after each layer\n",
        "for i, output in enumerate(layer_outputs):\n",
        "    print(f\"Output after layer {i}: {output}\")\n",
        "print(f\"Final output: {y_pred}\")"
      ]
    }
  ],
  "metadata": {
    "accelerator": "GPU",
    "colab": {
      "provenance": []
    },
    "gpuClass": "standard",
    "kernelspec": {
      "display_name": "Python 3",
      "name": "python3"
    },
    "language_info": {
      "codemirror_mode": {
        "name": "ipython",
        "version": 3
      },
      "file_extension": ".py",
      "mimetype": "text/x-python",
      "name": "python",
      "nbconvert_exporter": "python",
      "pygments_lexer": "ipython3",
      "version": "3.10.9"
    }
  },
  "nbformat": 4,
  "nbformat_minor": 0
}
