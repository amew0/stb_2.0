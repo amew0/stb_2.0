{
 "cells": [
  {
   "cell_type": "code",
   "execution_count": null,
   "metadata": {},
   "outputs": [],
   "source": [
    "import os\n",
    "import imghdr\n",
    "\n"
   ]
  },
  {
   "cell_type": "code",
   "execution_count": null,
   "metadata": {},
   "outputs": [],
   "source": [
    "# Specify the directory containing image files\n",
    "dir_path = \"dataset\"\n",
    "\n",
    "\n",
    "# Loop through each file in the directory\n",
    "for filename in os.listdir(dir_path):\n",
    "    file_path = os.path.join(dir_path, filename)\n",
    "    for filename_ in os.listdir(file_path):\n",
    "        file_path_ = os.path.join(dir_path, filename, filename_)\n",
    "        for filename__ in os.listdir(file_path_):\n",
    "            file_path__ = os.path.join(dir_path, filename, filename_, filename__)\n",
    "            # print(file_path__)\n",
    "    #         break\n",
    "    #     break\n",
    "    # break\n",
    "            file_format = imghdr.what(file_path__)\n",
    "            if file_format is None:\n",
    "                # If the file is not a valid image file, delete it\n",
    "                print(file_path__)\n",
    "\n",
    "                os.remove(file_path)\n"
   ]
  },
  {
   "cell_type": "code",
   "execution_count": null,
   "metadata": {},
   "outputs": [],
   "source": [
    "# Specify the directory containing image files\n",
    "dir_path = \"dataset\"\n",
    "new_dir_path = \"Custom-ds-all\"\n",
    "import shutil\n",
    "from tqdm import tqdm\n",
    "\n",
    "# Loop through each file in the directory\n",
    "for filename in tqdm(os.listdir(dir_path)):\n",
    "    file_path = os.path.join(dir_path, filename)\n",
    "    for filename_ in os.listdir(file_path):\n",
    "        file_path_ = os.path.join(dir_path, filename, filename_)\n",
    "        for filename__ in os.listdir(file_path_):\n",
    "            file_path__ = os.path.join(dir_path, filename, filename_, filename__)\n",
    "\n",
    "            new_file_path = os.path.join(new_dir_path, filename, filename__)\n",
    "            \n",
    "\n",
    "            shutil.copyfile(file_path__, new_file_path)\n",
    "\n",
    "            file_format = imghdr.what(file_path__)\n",
    "            if file_format is None:\n",
    "                # If the file is not a valid image file, delete it\n",
    "                print(file_path__)\n",
    "\n",
    "                os.remove(file_path)\n"
   ]
  },
  {
   "cell_type": "code",
   "execution_count": null,
   "metadata": {},
   "outputs": [],
   "source": [
    "from tqdm import tqdm\n",
    "from PIL import Image\n",
    "dir_path = \"Custom-ds-all\"\n",
    "\n",
    "for folder in tqdm(os.listdir(dir_path)):\n",
    "  folder_path = os.path.join(dir_path, folder)\n",
    "  for filename_ in os.listdir(folder_path):\n",
    "      file = os.path.join(dir_path, folder, filename_)\n",
    "      try:\n",
    "        original = Image.open(file)\n",
    "        file_type = original.format\n",
    "        file = file.replace(\".jpg\",\".PNG\")\n",
    "        original.save(file,format=\"PNG\")\n",
    "        converted = Image.open(file)\n",
    "      except:\n",
    "        print(str(file))\n",
    "        os.remove(file)"
   ]
  },
  {
   "attachments": {},
   "cell_type": "markdown",
   "metadata": {},
   "source": [
    "NVIDIA Corporation GA104M [GeForce RTX 3080 Mobile / Max-Q 8GB/16GB]"
   ]
  }
 ],
 "metadata": {
  "kernelspec": {
   "display_name": "sdp",
   "language": "python",
   "name": "python3"
  },
  "language_info": {
   "codemirror_mode": {
    "name": "ipython",
    "version": 3
   },
   "file_extension": ".py",
   "mimetype": "text/x-python",
   "name": "python",
   "nbconvert_exporter": "python",
   "pygments_lexer": "ipython3",
   "version": "3.10.9"
  },
  "orig_nbformat": 4
 },
 "nbformat": 4,
 "nbformat_minor": 2
}
